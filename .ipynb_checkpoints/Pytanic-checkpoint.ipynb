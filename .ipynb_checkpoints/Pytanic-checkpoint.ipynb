{
 "cells": [
  {
   "cell_type": "markdown",
   "metadata": {},
   "source": [
    "# All imports"
   ]
  },
  {
   "cell_type": "code",
   "execution_count": 1,
   "metadata": {
    "collapsed": true
   },
   "outputs": [],
   "source": [
    "import pandas as pd \n",
    "from sklearn import tree\n",
    "import numpy as np\n",
    "from sklearn.model_selection import train_test_split\n",
    "import matplotlib.pyplot as plt\n",
    "import seaborn as sns\n",
    "import sklearn.neighbors as ng\n",
    "import sklearn.linear_model as lm\n",
    "\n",
    "import warnings\n",
    "warnings.filterwarnings('ignore')\n",
    "sns.set(style=\"ticks\", color_codes=True)"
   ]
  },
  {
   "cell_type": "markdown",
   "metadata": {},
   "source": [
    "# Logical Prediction"
   ]
  },
  {
   "cell_type": "raw",
   "metadata": {},
   "source": [
    "From the domain knowledge we know that Pclass, Sex and Age are three crucuial features to consider during predicting survival of a passenger in Titanic. Therefore we decided to use these features and disregard the rest.At first we try to predict the survival of passenger by using only these features. Pclass defines social status of a passenger and we know children were given priority during the distribution of life boat. So we derives the following logic: "
   ]
  },
  {
   "cell_type": "code",
   "execution_count": 2,
   "metadata": {},
   "outputs": [
    {
     "name": "stdout",
     "output_type": "stream",
     "text": [
      "<class 'pandas.core.frame.DataFrame'>\n",
      "RangeIndex: 891 entries, 0 to 890\n",
      "Data columns (total 11 columns):\n",
      "PassengerId    891 non-null int64\n",
      "Pclass         891 non-null int64\n",
      "Name           891 non-null object\n",
      "Sex            891 non-null object\n",
      "Age            714 non-null float64\n",
      "SibSp          891 non-null int64\n",
      "Parch          891 non-null int64\n",
      "Ticket         891 non-null object\n",
      "Fare           891 non-null float64\n",
      "Cabin          204 non-null object\n",
      "Embarked       889 non-null object\n",
      "dtypes: float64(2), int64(4), object(5)\n",
      "memory usage: 76.6+ KB\n"
     ]
    }
   ],
   "source": [
    "dataset = pd.read_csv(\"train.csv\")\n",
    "X = dataset.loc[:,[\"PassengerId\",\"Pclass\",\"Name\",\"Sex\",\"Age\",\"SibSp\",\"Parch\",\"Ticket\",\"Fare\",\"Cabin\",\"Embarked\"]]\n",
    "y = dataset.loc[:,[\"Survived\"]]\n",
    "X.info()"
   ]
  },
  {
   "cell_type": "code",
   "execution_count": 3,
   "metadata": {},
   "outputs": [
    {
     "name": "stdout",
     "output_type": "stream",
     "text": [
      "Average Accuracy:  0.8031835205992511\n"
     ]
    }
   ],
   "source": [
    "Avg_run=30\n",
    "score = []\n",
    "\n",
    "for i in range(Avg_run):\n",
    "    X_train,X_test,y_train,y_test = train_test_split(X,y,train_size=0.8,stratify=y)\n",
    "    prediction = []\n",
    "    for passenger_index, passenger in X_train.iterrows():\n",
    "        if passenger['Sex'] == 'female' or (passenger['Pclass'] == 1 and passenger['Age'] < 18) or (passenger['Pclass'] == 2 and passenger['Age'] < 15):\n",
    "            prediction.append(1)\n",
    "        else:\n",
    "            prediction.append(0)\n",
    "    l=0\n",
    "    acc=0\n",
    "    for index,p in y_train.iterrows():\n",
    "        if y_train.loc[index,\"Survived\"] == prediction[l]:\n",
    "            acc+=1\n",
    "        l+=1\n",
    "    score.append(acc/len(y_train))\n",
    "    \n",
    "print(\"Average Accuracy: \",sum(score)/Avg_run)"
   ]
  },
  {
   "cell_type": "raw",
   "metadata": {},
   "source": [
    "We can see that we get accuracy of 80% on an average. But this procedure is not well generalized and it may fall down for another test data. Now we will go for machine learning approach."
   ]
  },
  {
   "cell_type": "markdown",
   "metadata": {},
   "source": [
    "# Easy and Convenient Model"
   ]
  },
  {
   "cell_type": "raw",
   "metadata": {},
   "source": [
    "Now we will go for an easy but may be straight-forward implementation. We will simply convert all the categorical data in numeric form then we will use decision tree and logistic regression for classification. Lets see what happens!!\n",
    "For this we consider only those features that can be easily converted to numerical form."
   ]
  },
  {
   "cell_type": "code",
   "execution_count": 4,
   "metadata": {},
   "outputs": [
    {
     "name": "stdout",
     "output_type": "stream",
     "text": [
      "Logistic Regression:  0.793109869646\n",
      "Decision Tree:  0.776536312849\n",
      "KNN:  0.75530726257\n"
     ]
    }
   ],
   "source": [
    "easy_dataset = dataset.loc[:,[\"Survived\",\"Pclass\",\"Sex\",\"Age\",\"SibSp\",\"Parch\",\"Embarked\"]]\n",
    "easy_X = easy_dataset.loc[:,[\"Pclass\",\"Sex\",\"Age\",\"SibSp\",\"Parch\",\"Embarked\"]]\n",
    "easy_y = easy_dataset.loc[:,[\"Survived\"]]\n",
    "\n",
    "# preparing numerical data\n",
    "easy_X[\"Embarked\"]=easy_X[\"Embarked\"].replace({\"S\":1})\n",
    "easy_X[\"Embarked\"]=easy_X[\"Embarked\"].replace({\"C\":2})\n",
    "easy_X[\"Embarked\"]=easy_X[\"Embarked\"].replace({\"Q\":3})\n",
    "easy_X[\"Sex\"]=easy_X[\"Sex\"].replace({\"male\":1})\n",
    "easy_X[\"Sex\"]=easy_X[\"Sex\"].replace({\"female\":2})\n",
    "\n",
    "dt_clf = tree.DecisionTreeClassifier()\n",
    "lr_clf = lm.LogisticRegression()\n",
    "knn_clf = ng.KNeighborsClassifier()\n",
    "Avg_run = 30\n",
    "dt_score =[]\n",
    "lr_score = []\n",
    "knn_score = []\n",
    "for i in range(Avg_run):\n",
    "    X_train,X_test,y_train,y_test = train_test_split(easy_X,easy_y,train_size=0.8,stratify=easy_y)\n",
    "    X_train[\"Age\"] = X_train[\"Age\"].fillna(int(np.mean(X_train[\"Age\"])))\n",
    "    X_train[\"Embarked\"] = X_train[\"Embarked\"].fillna(1)\n",
    "    X_test[\"Age\"] = X_test[\"Age\"].fillna(int(np.mean(X_test[\"Age\"])))\n",
    "    X_test[\"Embarked\"] = X_test[\"Embarked\"].fillna(1)\n",
    "    dt_clf=dt_clf.fit(X_train,y_train)\n",
    "    lr_clf=lr_clf.fit(X_train,y_train)\n",
    "    knn_clf = knn_clf.fit(X_train,y_train)\n",
    "    dt_score.append(dt_clf.score(X_test,y_test))\n",
    "    lr_score.append(lr_clf.score(X_test,y_test))\n",
    "    knn_score.append(knn_clf.score(X_test,y_test))\n",
    "print(\"Logistic Regression: \",sum(lr_score)/Avg_run)\n",
    "print(\"Decision Tree: \",sum(dt_score)/Avg_run)\n",
    "print(\"KNN: \",sum(knn_score)/Avg_run)\n",
    "    \n",
    "    "
   ]
  },
  {
   "cell_type": "raw",
   "metadata": {},
   "source": [
    "From the test runs, we can conclusively say that Logistic Regression outperforms Decision Tree but they both are very poor in comparison with our logical prediction. So we have to look again to our feature and try something to improve the "
   ]
  },
  {
   "cell_type": "markdown",
   "metadata": {},
   "source": [
    "# Feature Engineering"
   ]
  },
  {
   "cell_type": "raw",
   "metadata": {},
   "source": [
    "At first we will look at the corelation matrix of the dataset to find some overview of the features."
   ]
  },
  {
   "cell_type": "code",
   "execution_count": 5,
   "metadata": {},
   "outputs": [
    {
     "data": {
      "text/plain": [
       "<matplotlib.axes._subplots.AxesSubplot at 0x1ff315214a8>"
      ]
     },
     "execution_count": 5,
     "metadata": {},
     "output_type": "execute_result"
    },
    {
     "data": {
      "image/png": "[encoded data removed]",
      "text/plain": [
       "<matplotlib.figure.Figure at 0x1ff3290b400>"
      ]
     },
     "metadata": {},
     "output_type": "display_data"
    }
   ],
   "source": [
    "train_set = pd.concat([easy_X,easy_y[\"Survived\"]],axis=1)\n",
    "train_set[\"Age\"] = train_set[\"Age\"].fillna(int(np.mean(train_set[\"Age\"])))\n",
    "train_set[\"Embarked\"] =train_set[\"Embarked\"].fillna(1)\n",
    "%matplotlib inline\n",
    "plt.figure(figsize=(6,6))\n",
    "plt.title('Pearson Correlation of Features', y=1.05, size=15)\n",
    "sns.heatmap(train_set.corr(),linewidths=0.1,vmax=1.0, square=True, cmap=plt.cm.viridis, linecolor='white', annot=True)"
   ]
  },
  {
   "cell_type": "raw",
   "metadata": {},
   "source": [
    "From the corelation matrix the following observations were made-\n",
    "1) Survival dependency is highest with gender\n",
    "\n",
    "2) parch and sibsp both represents familial replationship, so by combining these two we can form an aggregated feature aka familySize\n",
    "\n",
    "3) The negative value of age shows that it has an inverse relation with survival rate. Most other features are categorical, therfore we assume that categorizing the age will be benificial to the outcome. From domain knowledge we know that childs were prioritized and in logical prediction we see if we combine Pclass info and Age then accuracy is pretty high so we shall divide them into two categories - i)Pre-adult(0-18), ii)Adults(19~)\n",
    "\n",
    "4) Fare seems redundant next to Pclass therefore we shall drop it from consideration.\n",
    "\n",
    "5) For age value filling we have two options as it is continuous feature\n",
    "    a) Using Mean\n",
    "        Good – we don’t change the mean of the column \n",
    "        Bad – just plugging the mean value in to the bunch of data points lessens the correlation between our imputed variables and other variables.\n",
    "    b) Using Prediction Model to predict the age itself\n",
    "        Good – this model will product exact value for missing entries.\n",
    "        Bad – we would over emphasize existing trends in the data. EX- If there is relation between column A & column B, predicted value will amplify the trend.\n",
    "        \n",
    "        Note : In our case we will use prediction to predict the age and for prediction we will use logistic regression as our data becomes categorical after the previous steps."
   ]
  },
  {
   "cell_type": "code",
   "execution_count": 6,
   "metadata": {},
   "outputs": [
    {
     "ename": "ModuleNotFoundError",
     "evalue": "No module named 'Age_prediction'",
     "output_type": "error",
     "traceback": [
      "\u001b[1;31m---------------------------------------------------------------------------\u001b[0m",
      "\u001b[1;31mModuleNotFoundError\u001b[0m                       Traceback (most recent call last)",
      "\u001b[1;32m<ipython-input-6-cb7a8f461a8c>\u001b[0m in \u001b[0;36m<module>\u001b[1;34m()\u001b[0m\n\u001b[1;32m----> 1\u001b[1;33m \u001b[1;32mfrom\u001b[0m \u001b[0mAge_prediction\u001b[0m \u001b[1;32mimport\u001b[0m \u001b[0mtrainClassifier\u001b[0m\u001b[1;33m\u001b[0m\u001b[0m\n\u001b[0m\u001b[0;32m      2\u001b[0m \u001b[0mnew_dataset\u001b[0m \u001b[1;33m=\u001b[0m \u001b[0mdataset\u001b[0m\u001b[1;33m.\u001b[0m\u001b[0mloc\u001b[0m\u001b[1;33m[\u001b[0m\u001b[1;33m:\u001b[0m\u001b[1;33m,\u001b[0m\u001b[1;33m[\u001b[0m\u001b[1;34m\"Pclass\"\u001b[0m\u001b[1;33m,\u001b[0m\u001b[1;34m\"Sex\"\u001b[0m\u001b[1;33m,\u001b[0m\u001b[1;34m\"Age\"\u001b[0m\u001b[1;33m,\u001b[0m\u001b[1;34m\"SibSp\"\u001b[0m\u001b[1;33m,\u001b[0m\u001b[1;34m\"Parch\"\u001b[0m\u001b[1;33m,\u001b[0m\u001b[1;34m\"Embarked\"\u001b[0m\u001b[1;33m,\u001b[0m\u001b[1;34m\"Survived\"\u001b[0m\u001b[1;33m]\u001b[0m\u001b[1;33m]\u001b[0m\u001b[1;33m\u001b[0m\u001b[0m\n\u001b[0;32m      3\u001b[0m \u001b[1;33m\u001b[0m\u001b[0m\n\u001b[0;32m      4\u001b[0m \u001b[0mnew_dataset\u001b[0m\u001b[1;33m[\u001b[0m\u001b[1;34m\"Embarked\"\u001b[0m\u001b[1;33m]\u001b[0m\u001b[1;33m=\u001b[0m\u001b[0mnew_dataset\u001b[0m\u001b[1;33m[\u001b[0m\u001b[1;34m\"Embarked\"\u001b[0m\u001b[1;33m]\u001b[0m\u001b[1;33m.\u001b[0m\u001b[0mreplace\u001b[0m\u001b[1;33m(\u001b[0m\u001b[1;33m{\u001b[0m\u001b[1;34m\"S\"\u001b[0m\u001b[1;33m:\u001b[0m\u001b[1;36m1\u001b[0m\u001b[1;33m}\u001b[0m\u001b[1;33m)\u001b[0m\u001b[1;33m\u001b[0m\u001b[0m\n\u001b[0;32m      5\u001b[0m \u001b[0mnew_dataset\u001b[0m\u001b[1;33m[\u001b[0m\u001b[1;34m\"Embarked\"\u001b[0m\u001b[1;33m]\u001b[0m\u001b[1;33m=\u001b[0m\u001b[0mnew_dataset\u001b[0m\u001b[1;33m[\u001b[0m\u001b[1;34m\"Embarked\"\u001b[0m\u001b[1;33m]\u001b[0m\u001b[1;33m.\u001b[0m\u001b[0mreplace\u001b[0m\u001b[1;33m(\u001b[0m\u001b[1;33m{\u001b[0m\u001b[1;34m\"C\"\u001b[0m\u001b[1;33m:\u001b[0m\u001b[1;36m2\u001b[0m\u001b[1;33m}\u001b[0m\u001b[1;33m)\u001b[0m\u001b[1;33m\u001b[0m\u001b[0m\n",
      "\u001b[1;31mModuleNotFoundError\u001b[0m: No module named 'Age_prediction'"
     ]
    }
   ],
   "source": [
    "from Age_prediction import trainClassifier\n",
    "new_dataset = dataset.loc[:,[\"Pclass\",\"Sex\",\"Age\",\"SibSp\",\"Parch\",\"Embarked\",\"Survived\"]]\n",
    "\n",
    "new_dataset[\"Embarked\"]=new_dataset[\"Embarked\"].replace({\"S\":1})\n",
    "new_dataset[\"Embarked\"]=new_dataset[\"Embarked\"].replace({\"C\":2})\n",
    "new_dataset[\"Embarked\"]=new_dataset[\"Embarked\"].replace({\"Q\":3})\n",
    "new_dataset[\"Sex\"]=new_dataset[\"Sex\"].replace({\"male\":1})\n",
    "new_dataset[\"Sex\"]=new_dataset[\"Sex\"].replace({\"female\":2})\n",
    "\n",
    "features = new_dataset.loc[:,[\"Pclass\",\"Sex\",\"Age\",\"SibSp\",\"Parch\",\"Embarked\"]]\n",
    "labels = new_dataset.loc[:,[\"Survived\"]]\n",
    "features[\"Embarked\"] = features[\"Embarked\"].fillna(1)\n",
    "age_clf = trainClassifier(\"train.csv\")\n",
    "\n",
    "for index,row in features.iterrows():\n",
    "        arr = np.asarray(row)\n",
    "        if pd.isnull(arr[2]):\n",
    "            arr = np.delete(arr,2)\n",
    "            features.loc[index,\"Age\"] = age_clf.predict(arr)\n",
    "        else:\n",
    "            if row[\"Age\"] <= 16:\n",
    "                features.loc[index,\"Age\"] = 1\n",
    "            elif row[\"Age\"]<=40:\n",
    "                features.loc[index,\"Age\"] = 2\n",
    "            elif row[\"Age\"] <=55:\n",
    "                features.loc[index,\"Age\"] = 3\n",
    "            else:\n",
    "                features.loc[index,\"Age\"] = 4\n",
    "print(features.info())\n",
    "#print(labels.head())"
   ]
  },
  {
   "cell_type": "code",
   "execution_count": null,
   "metadata": {
    "collapsed": true
   },
   "outputs": [],
   "source": [
    "#familySize combination\n",
    "\n",
    "features['FamilySize'] = features['SibSp'] + features['Parch'] + 1\n",
    "\n",
    "features.drop(['SibSp','Parch'], axis=1, inplace=True)\n",
    "\n",
    "print(features.head())"
   ]
  },
  {
   "cell_type": "raw",
   "metadata": {},
   "source": [
    "Now from the above cell we can see the values are quit normalized. We don't have to normalized it again. So our feature vector is ready!!!"
   ]
  },
  {
   "cell_type": "markdown",
   "metadata": {},
   "source": [
    "# Ensemble Learning"
   ]
  },
  {
   "cell_type": "raw",
   "metadata": {},
   "source": [
    "Ensembled modeling is the process of running two or more related but different analytical models and then synthesizing the results into a single score to improve accuracy.\n",
    "\n",
    "After initial testing with decision tree and then feature engineering, we have decided to run an ensembled method consisting of decision tree algorithm, KNN algorithm and linear regression. We ran each of the algorithms independently to examine the accuarcy of them. Then we ran the Ensambled method to examine if the accuracy has improved. In our tests, we have achieved average accuracy of 80% with the highest accuracy at 84%."
   ]
  },
  {
   "cell_type": "code",
   "execution_count": null,
   "metadata": {
    "collapsed": true
   },
   "outputs": [],
   "source": [
    "Avg_run = 30\n",
    "score = []\n",
    "dt=[]\n",
    "knn=[]\n",
    "lr=[]\n",
    "dt_clf = tree.DecisionTreeClassifier()\n",
    "knn_clf = ng.KNeighborsClassifier()\n",
    "lr_clf = lm.LogisticRegression()\n",
    "\n",
    "for i in range(Avg_run):\n",
    "    X_train,X_test,y_train,y_test = train_test_split(features,labels,train_size = 0.8,stratify = labels)\n",
    "    \n",
    "    # normalizing\n",
    "    #X_test[\"Age\"]=(X_test[\"Age\"]-np.mean(X_test[\"Age\"]))/np.std(X_test[\"Age\"])\n",
    "    #X_test[\"FamilySize\"]=(X_test[\"FamilySize\"]-np.mean(X_test[\"FamilySize\"]))/np.std(X_test[\"FamilySize\"])\n",
    "    #X_test[\"Pclass\"]=(X_test[\"Pclass\"]-np.mean(X_test[\"Pclass\"]))/np.std(X_test[\"Pclass\"])\n",
    "    #X_test[\"Embarked\"]=(X_test[\"Embarked\"]-np.mean(X_test[\"Embarked\"]))/np.std(X_test[\"Embarked\"])\n",
    "    #X_test[\"Sex\"]=(X_test[\"Sex\"]-np.mean(X_test[\"Sex\"]))/np.std(X_test[\"Sex\"])\n",
    "    \n",
    "    #X_train[\"Age\"]=(X_train[\"Age\"]-np.mean(X_train[\"Age\"]))/np.std(X_train[\"Age\"])\n",
    "    #X_train[\"FamilySize\"]=(X_train[\"FamilySize\"]-np.mean(X_train[\"FamilySize\"]))/np.std(X_train[\"FamilySize\"])\n",
    "    #X_train[\"Pclass\"]=(X_train[\"Pclass\"]-np.mean(X_train[\"Pclass\"]))/np.std(X_train[\"Pclass\"])\n",
    "    #X_train[\"Embarked\"]=(X_train[\"Embarked\"]-np.mean(X_train[\"Embarked\"]))/np.std(X_train[\"Embarked\"])\n",
    "    #X_train[\"Sex\"]=(X_train[\"Sex\"]-np.mean(X_train[\"Sex\"]))/np.std(X_train[\"Sex\"])\n",
    "    #-----------------------------------------------------------------------------------\n",
    "    dt_clf = dt_clf.fit(X_train,y_train)\n",
    "    knn_clf = knn_clf.fit(X_train,y_train)\n",
    "    lr_clf = lr_clf.fit(X_train,y_train)\n",
    "    \n",
    "    dt.append(dt_clf.score(X_test,y_test))\n",
    "    knn.append(knn_clf.score(X_test,y_test))\n",
    "    lr.append(lr_clf.score(X_test,y_test))\n",
    "    \n",
    "    predicted = []\n",
    "    for index,row in X_test.iterrows():\n",
    "        d=dt_clf.predict(row)\n",
    "        kn=knn_clf.predict(row)\n",
    "        l=lr_clf.predict(row)\n",
    "        if d==0:\n",
    "            if kn==0 or l==0:\n",
    "                predicted.append(0)\n",
    "            else:\n",
    "                predicted.append(1)\n",
    "        else:\n",
    "            if kn==1 or l==1:\n",
    "                predicted.append(1)\n",
    "            else:\n",
    "                predicted.append(0)\n",
    "    #print(predicted)\n",
    "    z=0\n",
    "    a=0\n",
    "    for index,ro in y_test.iterrows():\n",
    "        if predicted[z]==ro[\"Survived\"]:\n",
    "            a+=1\n",
    "        z+=1\n",
    "    score.append(a/z)\n",
    "    \n",
    "print(\"Average Accuracy of DT: \",sum(dt)/Avg_run)\n",
    "print(\"Average Accuracy of KNN: \",sum(knn)/Avg_run)\n",
    "print(\"Average Accuracy of LR: \",sum(lr)/Avg_run)\n",
    "print(\"Average Accuracy of Ensemble Learning: \",sum(score)/Avg_run)"
   ]
  },
  {
   "cell_type": "code",
   "execution_count": null,
   "metadata": {
    "collapsed": true
   },
   "outputs": [],
   "source": [
    "x_co = range(Avg_run)\n",
    "plt.figure(figsize=(12,5))\n",
    "plt.title('Performance Evaluation Graph', y=1.05, size=15)\n",
    "plt.plot(x_co,score,\"r\",x_co,dt,\"b\",x_co,knn,\"g\",x_co,lr,\"y\")\n",
    "plt.legend([\"Ensemble\",\"DT\",\"KNN\",\"LR\"])\n",
    "plt.show()"
   ]
  },
  {
   "cell_type": "raw",
   "metadata": {},
   "source": [
    "From the above two cell we can see that the avg accuracy of our ensemble classifier is about 80%, However from the plot it is clear that sometimes the accuracy crosses even 85% and the lowest is 76. However this classifier is more stable and accurate than the other three individuals."
   ]
  },
  {
   "cell_type": "markdown",
   "metadata": {},
   "source": [
    "# Learning Curve"
   ]
  },
  {
   "cell_type": "raw",
   "metadata": {},
   "source": [
    "We also try to plot the learning curve and by plotting it, it seems the difference between test and train error is quit high but at 80% of training size the test error and train error comes very close to each other. So we take that as high variance problem and \n",
    "\n",
    "1) small set of features or \n",
    "2) more training examples \n",
    "\n",
    "can solve high variance problem. So we can try that also."
   ]
  },
  {
   "cell_type": "code",
   "execution_count": null,
   "metadata": {
    "collapsed": true
   },
   "outputs": [],
   "source": [
    "from IPython.display import Image\n",
    "Image(\"LearningCurve.png\")"
   ]
  },
  {
   "cell_type": "markdown",
   "metadata": {},
   "source": [
    "# Conclusion"
   ]
  },
  {
   "cell_type": "raw",
   "metadata": {},
   "source": [
    "So from the above experiments we can conclude that the ensemble method is more accurate that other three individual model. The accuracy can be increased by doing some more feature engineering such as including Title and others. We submitted our model in kaggle and 78% accuracy is obtained their. For Age we divide it by two categories first then we try to divide it by more categories like i)Pre-adult(0-16), ii)Adults(17-40), iii)Middle-aged(41-55), iv)seniors(56~). The accuracy is pretty stable here with these categories. So we keep it.\n",
    "\n",
    "Note: Random Forest (RF) is another ensemble learning model that we know. So we implemented that model too in our dataset and we get a similar performance with RF too.\n",
    "\n",
    "We also normalized the features and run the model with normalization and without normalization both. As we expected the normalization seems no effect on the overall accuracy.    \n",
    "\n",
    "We conclude by saying that in our feature set the ensemble method (with 4 categories of Age) works better than other three model as individuals."
   ]
  },
  {
   "cell_type": "markdown",
   "metadata": {},
   "source": [
    "# Resources"
   ]
  },
  {
   "cell_type": "raw",
   "metadata": {},
   "source": [
    "1. https://www.kaggle.com/arthurtok/introduction-to-ensembling-stacking-in-python\n",
    "2. https://www.kaggle.com/omarelgabry/a-journey-through-titanic\n",
    "3. https://www.kaggle.com/sinakhorami/titanic-best-working-classifier\n",
    "4. http://cs229.stanford.edu/materials/ML-advice.pdf\n",
    "5. Udacity : Intro to Data Science (Task)"
   ]
  }
 ],
 "metadata": {
  "kernelspec": {
   "display_name": "Python 3",
   "language": "python",
   "name": "python3"
  },
  "language_info": {
   "codemirror_mode": {
    "name": "ipython",
    "version": 3
   },
   "file_extension": ".py",
   "mimetype": "text/x-python",
   "name": "python",
   "nbconvert_exporter": "python",
   "pygments_lexer": "ipython3",
   "version": "3.6.1"
  }
 },
 "nbformat": 4,
 "nbformat_minor": 2
}
